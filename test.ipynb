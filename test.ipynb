{
 "nbformat": 4,
 "nbformat_minor": 2,
 "metadata": {
  "language_info": {
   "name": "python",
   "codemirror_mode": {
    "name": "ipython",
    "version": 3
   },
   "version": "3.7.4"
  },
  "orig_nbformat": 2,
  "file_extension": ".py",
  "mimetype": "text/x-python",
  "name": "python",
  "npconvert_exporter": "python",
  "pygments_lexer": "ipython3",
  "version": 3
 },
 "cells": [
  {
   "source": [
    "from ga import population, first_generation, fitness_similarity_check, next_generation\n",
    "import numpy as np\n"
   ],
   "cell_type": "code",
   "outputs": [],
   "metadata": {},
   "execution_count": 2
  },
  {
   "source": [
    "Result_file = 'tower_weights.txt'"
   ],
   "cell_type": "code",
   "outputs": [],
   "metadata": {},
   "execution_count": 3
  },
  {
   "source": [
    "max_weight = 10\n",
    "min_weight = 0\n",
    "number_of_genes = 4\n",
    "number_of_individuals = 5"
   ],
   "cell_type": "code",
   "outputs": [],
   "metadata": {},
   "execution_count": 8
  },
  {
   "source": [
    "weights = population(number_of_individuals, number_of_genes, max_weight,min_weight)\n",
    "gen = []\n",
    "gen.append(first_generation(weights))"
   ],
   "cell_type": "code",
   "outputs": [],
   "metadata": {},
   "execution_count": 9
  },
  {
   "source": [
    "fitness_avg = np.array([sum(gen[0]['Fitness'])/\n",
    "                        len(gen[0]['Fitness'])])\n",
    "fitness_max = np.array([max(gen[0]['Fitness'])])\n",
    "\n",
    "res = open(Result_file, 'a')\n",
    "res.write('\\n'+str(gen)+'\\n')\n",
    "res.close()\n",
    "finish = False"
   ],
   "cell_type": "code",
   "outputs": [],
   "metadata": {},
   "execution_count": 7
  }
 ]
}